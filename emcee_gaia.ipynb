{
 "cells": [
  {
   "cell_type": "code",
   "execution_count": null,
   "metadata": {
    "collapsed": true
   },
   "outputs": [],
   "source": []
  },
  {
   "cell_type": "code",
   "execution_count": 1,
   "metadata": {
    "collapsed": true
   },
   "outputs": [],
   "source": [
    "import numpy as np\n",
    "import scipy.integrate as nint\n",
    "import scipy.interpolate as interp\n",
    "import scipy.stats as stats\n",
    "import scipy.optimize as opt\n",
    "import matplotlib.pyplot as plt\n",
    "from tqdm import tqdm\n",
    "import integrator as intt\n",
    "import analysis as an\n",
    "import likelihood as lh\n",
    "import emcee as mc\n",
    "\n",
    "%matplotlib inline"
   ]
  },
  {
   "cell_type": "code",
   "execution_count": 2,
   "metadata": {
    "collapsed": true
   },
   "outputs": [],
   "source": [
    "star_Cat = \"G\"\n",
    "starFile = '/Users/john/Desktop/john_code/DarkDisk/'+star_Cat+'_stars.txt'\n",
    "zfile_columnZ = 5\n",
    "zfile_columnEVFS = 6\n",
    "zfile_columnZErr = 16\n",
    "\n",
    "sig_star = 14.6\n",
    "sunZ = -0.326\n",
    "rhoDHalo = 0.015\n",
    "sunW = 6.395\n",
    "h_DD = 10.; sig_DD = 0.5;\n",
    "\n",
    "sigmaH2 = 3.7; rhoH2 = 0.0104;\n",
    "sigmaHI1 = 7.1; rhoHI1 = 0.0277;\n",
    "sigmaHI2 = 22.1; rhoHI2 = 0.0073;\n",
    "sigmaWGas = 39.0; rhoWGas = 0.0005;\n",
    "sigmaGiants = 15.5; rhoGiants = 0.0006;\n",
    "sigmaMV2p5 = 7.5; rhoMV2p5 = 0.0018;\n",
    "sigma3MV4 = 12.0; rho3MV4 = 0.0018;\n",
    "sigma4MV5 = 18.0; rho4MV5 = 0.0029;\n",
    "sigma5MV8 = 18.5; rho5MV8 = 0.0072;\n",
    "sigmaMV8 = 18.5; rhoMV8 = 0.0216;\n",
    "sigmaWDwarfs = 20.0; rhoWDwarfs = 0.0056;\n",
    "sigmaBDwarfs = 20.0; rhoBDwarfs = 0.0015;\n",
    "sigmaDHalo = float('nan')\n",
    "\n",
    "err_rhoDHalo = 0.005; err_star_sig = 0.28\n",
    "err_sigmaH2 = 0.2; err_rhoH2 = 0.00312;\n",
    "err_sigmaHI1 = 0.5; err_rhoHI1 = 0.00554;\n",
    "err_sigmaHI2 = 2.4; err_rhoHI2 = 0.0007;\n",
    "err_sigmaWGas = 4.0; err_rhoWGas = 0.00003;\n",
    "err_sigmaGiants = 1.6; err_rhoGiants = 0.00006;\n",
    "err_sigmaMV2p5 = 2.0; err_rhoMV2p5 = 0.00018;\n",
    "err_sigma3MV4 = 2.4; err_rho3MV4 = 0.00018;\n",
    "err_sigma4MV5 = 1.8; err_rho4MV5 = 0.00029;\n",
    "err_sigma5MV8 = 1.9; err_rho5MV8 = 0.00072;\n",
    "err_sigmaMV8 = 4.0; err_rhoMV8 = 0.0028;\n",
    "err_sigmaWDwarfs = 5.0; err_rhoWDwarfs = 0.001;\n",
    "err_sigmaBDwarfs = 5.0; err_rhoBDwarfs = 0.0005;\n",
    "\n",
    "sigma_err = np.array([err_sigmaH2, err_sigmaHI1, err_sigmaHI2, err_sigmaWGas, err_sigmaGiants, err_sigmaMV2p5, err_sigma3MV4, err_sigma4MV5, err_sigma5MV8, err_sigmaMV8, err_sigmaWDwarfs, err_sigmaBDwarfs])\n",
    "rho_err = np.array([err_rhoH2, err_rhoHI1, err_rhoHI2, err_rhoWGas, err_rhoGiants, err_rhoMV2p5, err_rho3MV4, err_rho4MV5, err_rho5MV8, err_rhoMV8, err_rhoWDwarfs, err_rhoBDwarfs])\n",
    "\n",
    "sigma = np.array([sigmaH2, sigmaHI1, sigmaHI2, sigmaWGas, sigmaGiants, sigmaMV2p5, sigma3MV4, sigma4MV5, sigma5MV8, sigmaMV8, sigmaWDwarfs, sigmaBDwarfs])\n",
    "rho = np.array([rhoH2, rhoHI1, rhoHI2, rhoWGas, rhoGiants, rhoMV2p5, rho3MV4, rho4MV5, rho5MV8, rhoMV8, rhoWDwarfs, rhoBDwarfs])\n",
    "\n",
    "mean_param = np.array([ sig_star, rhoDHalo])\n",
    "mean_param = np.append(mean_param, sigma)\n",
    "mean_param = np.append(mean_param, rho)\n",
    "\n",
    "err_param = np.array([err_star_sig, err_rhoDHalo])\n",
    "err_param = np.append(err_param, sigma_err)\n",
    "err_param = np.append(err_param, rho_err)"
   ]
  },
  {
   "cell_type": "code",
   "execution_count": 3,
   "metadata": {},
   "outputs": [
    {
     "name": "stdout",
     "output_type": "stream",
     "text": [
      "CPU times: user 693 ms, sys: 12.2 ms, total: 705 ms\n",
      "Wall time: 706 ms\n",
      "-95.4970990759\n"
     ]
    },
    {
     "data": {
      "text/plain": [
       "<matplotlib.figure.Figure at 0x111992c90>"
      ]
     },
     "metadata": {},
     "output_type": "display_data"
    }
   ],
   "source": [
    "wdata = an.fetchWData(starFile, wSun = sunW, show_plot = False, verbose = False)\n",
    "star_sig, star_sig_err = lh.fetchWDist_fast(wdata, verbose=False)\n",
    "zdata = np.loadtxt(starFile, delimiter= \",\", skiprows=1, usecols=(zfile_columnZ, zfile_columnZErr, zfile_columnEVFS), unpack=True)  \n",
    "\n",
    "param = star_sig[0], sunZ, rhoDHalo, sigmaH2, sigmaHI1, sigmaHI2, sigmaWGas, sigmaGiants,\\\n",
    "sigmaMV2p5, sigma3MV4, sigma4MV5, sigma5MV8, sigmaMV8, sigmaWDwarfs, sigmaBDwarfs, rhoH2, rhoHI1, rhoHI2,\\\n",
    "rhoWGas, rhoGiants, rhoMV2p5, rho3MV4, rho4MV5, rho5MV8, rhoMV8, rhoWDwarfs, rhoBDwarfs\n",
    "\n",
    "%time loglikelihood = lh.loglikelihood(param, h_DD, sig_DD, zdata, mean_param=mean_param, err_param=err_param)\n",
    "print(loglikelihood)"
   ]
  },
  {
   "cell_type": "code",
   "execution_count": 4,
   "metadata": {},
   "outputs": [
    {
     "name": "stdout",
     "output_type": "stream",
     "text": [
      "parameter space dimension: 27\n",
      "CPU times: user 43.1 s, sys: 684 ms, total: 43.8 s\n",
      "Wall time: 44.2 s\n",
      "return parameters: [  1.46000000e+01  -3.26000000e-01   1.50000000e-02   3.70000000e+00\n",
      "   7.10000000e+00   2.21000000e+01   3.90000000e+01   1.55000000e+01\n",
      "   7.50000000e+00   1.20000000e+01   1.80000000e+01   1.85000000e+01\n",
      "   1.85000000e+01   2.00000000e+01   2.00000000e+01   1.04000000e-02\n",
      "   2.77000000e-02   7.30000000e-03   5.00000000e-04   6.00000000e-04\n",
      "   1.80000000e-03   1.80000000e-03   2.90000000e-03   7.20000000e-03\n",
      "   2.16000000e-02   5.60000000e-03   1.50000000e-03]\n",
      "minimized likelihood: -95.4901633986\n"
     ]
    }
   ],
   "source": [
    "epsilon = 0.0001\n",
    "n_sigma = 3.0\n",
    "#initial_guess = np.array([h_DD, sig_DD, 14.6])\n",
    "#fixed_params = np.append(sigma, rho)\n",
    "#fixed_params = np.append([sunZ, rhoDHalo], fixed_params)\n",
    "\n",
    "initial_guess = np.array([sig_star, sunZ, rhoDHalo])\n",
    "initial_guess = np.append(initial_guess, sigma)\n",
    "initial_guess = np.append(initial_guess, rho)\n",
    "\n",
    "upperbounds = np.array([ star_sig[0]+n_sigma*err_star_sig, 40., rhoDHalo+n_sigma*err_rhoDHalo ])\n",
    "upperbounds = np.append(upperbounds, sigma+n_sigma*sigma_err)\n",
    "upperbounds = np.append(upperbounds, rho+n_sigma*rho_err)\n",
    "\n",
    "lowerbounds = np.array([ star_sig[0]-n_sigma*err_star_sig, -40., rhoDHalo-n_sigma*err_rhoDHalo ])\n",
    "lowerbounds = np.append(lowerbounds, sigma-n_sigma*sigma_err)\n",
    "lowerbounds = np.append(lowerbounds, rho-n_sigma*rho_err)\n",
    "\n",
    "print(\"parameter space dimension: \" + str(len(initial_guess)))\n",
    "#bounds = [(sig_star-3*err_star_sig, sig_star+3*err_star_sig), (None, None), (epsilon, None),\\\n",
    "         #(epsilon, None), (epsilon, None), (epsilon, None), (epsilon, None), (epsilon, None), (epsilon, None),\\\n",
    "         #(epsilon, None), (epsilon, None), (epsilon, None), (epsilon, None), (epsilon, None), (epsilon, None),\\\n",
    "         #(epsilon, None), (epsilon, None), (epsilon, None), (epsilon, None), (epsilon, None), (epsilon, None),\\\n",
    "         #(epsilon, None), (epsilon, None), (epsilon, None), (epsilon, None), (epsilon, None), (epsilon, None)]\n",
    "\n",
    "bounds = zip(lowerbounds,upperbounds)        \n",
    "\n",
    "#%time result = opt.minimize(lh.loglikelihood_test, initial_guess, args=(fixed_params, zdata), bounds = bounds)\n",
    "%time result = opt.minimize(lh.loglikelihood, initial_guess, args=(h_DD, sig_DD, zdata, mean_param, err_param), bounds = bounds)\n",
    "x_return = result[\"x\"]\n",
    "#x_return = result\n",
    "\n",
    "print(\"return parameters: \" + str(x_return) )\n",
    "print(\"minimized likelihood: \" + str(lh.loglikelihood(x_return, h_DD, sig_DD, zdata, mean_param, err_param)) )"
   ]
  },
  {
   "cell_type": "code",
   "execution_count": 5,
   "metadata": {},
   "outputs": [
    {
     "name": "stderr",
     "output_type": "stream",
     "text": [
      "  4%|▍         | 1/25 [08:13<3:17:29, 493.75s/it]"
     ]
    },
    {
     "ename": "KeyboardInterrupt",
     "evalue": "",
     "output_type": "error",
     "traceback": [
      "\u001b[0;31m---------------------------------------------------------------------------\u001b[0m",
      "\u001b[0;31mKeyboardInterrupt\u001b[0m                         Traceback (most recent call last)",
      "\u001b[0;32m<ipython-input-5-a8b80c1b9505>\u001b[0m in \u001b[0;36m<module>\u001b[0;34m()\u001b[0m\n\u001b[1;32m     12\u001b[0m       \u001b[0mh_DD\u001b[0m \u001b[0;34m=\u001b[0m \u001b[0;34m(\u001b[0m\u001b[0mnHD\u001b[0m\u001b[0;34m-\u001b[0m\u001b[0;36m0.8\u001b[0m\u001b[0;34m)\u001b[0m\u001b[0;34m/\u001b[0m\u001b[0;36m2\u001b[0m\u001b[0;34m\u001b[0m\u001b[0m\n\u001b[1;32m     13\u001b[0m       \u001b[0msig_DD\u001b[0m \u001b[0;34m=\u001b[0m \u001b[0;34m(\u001b[0m\u001b[0mnSgmD\u001b[0m\u001b[0;34m-\u001b[0m\u001b[0;36m0.5\u001b[0m\u001b[0;34m)\u001b[0m\u001b[0;34m\u001b[0m\u001b[0m\n\u001b[0;32m---> 14\u001b[0;31m       \u001b[0mresult\u001b[0m \u001b[0;34m=\u001b[0m \u001b[0mopt\u001b[0m\u001b[0;34m.\u001b[0m\u001b[0mminimize\u001b[0m\u001b[0;34m(\u001b[0m\u001b[0mlh\u001b[0m\u001b[0;34m.\u001b[0m\u001b[0mloglikelihood\u001b[0m\u001b[0;34m,\u001b[0m \u001b[0minitial_guess\u001b[0m\u001b[0;34m,\u001b[0m \u001b[0margs\u001b[0m\u001b[0;34m=\u001b[0m\u001b[0;34m(\u001b[0m\u001b[0mh_DD\u001b[0m\u001b[0;34m,\u001b[0m \u001b[0msig_DD\u001b[0m\u001b[0;34m,\u001b[0m \u001b[0mzdata\u001b[0m\u001b[0;34m,\u001b[0m \u001b[0mmean_param\u001b[0m\u001b[0;34m,\u001b[0m \u001b[0merr_param\u001b[0m\u001b[0;34m)\u001b[0m\u001b[0;34m,\u001b[0m \u001b[0mbounds\u001b[0m \u001b[0;34m=\u001b[0m \u001b[0mbounds\u001b[0m\u001b[0;34m)\u001b[0m\u001b[0;34m\u001b[0m\u001b[0m\n\u001b[0m\u001b[1;32m     15\u001b[0m       \u001b[0mhdd_ret\u001b[0m\u001b[0;34m,\u001b[0m \u001b[0mSigdd_ret\u001b[0m\u001b[0;34m,\u001b[0m \u001b[0mllh_rett\u001b[0m \u001b[0;34m=\u001b[0m \u001b[0mlh\u001b[0m\u001b[0;34m.\u001b[0m\u001b[0mdiskParamLlhReturn\u001b[0m\u001b[0;34m(\u001b[0m\u001b[0mx_return\u001b[0m\u001b[0;34m,\u001b[0m \u001b[0mh_DD\u001b[0m\u001b[0;34m,\u001b[0m \u001b[0msig_DD\u001b[0m\u001b[0;34m,\u001b[0m \u001b[0mzdata\u001b[0m\u001b[0;34m,\u001b[0m \u001b[0mmean_param\u001b[0m\u001b[0;34m,\u001b[0m \u001b[0merr_param\u001b[0m\u001b[0;34m)\u001b[0m\u001b[0;34m\u001b[0m\u001b[0m\n\u001b[1;32m     16\u001b[0m       \u001b[0minterpx\u001b[0m\u001b[0;34m.\u001b[0m\u001b[0mappend\u001b[0m\u001b[0;34m(\u001b[0m \u001b[0mSigdd_ret\u001b[0m \u001b[0;34m)\u001b[0m\u001b[0;34m\u001b[0m\u001b[0m\n",
      "\u001b[0;32m/Users/john/anaconda2/lib/python2.7/site-packages/scipy/optimize/_minimize.pyc\u001b[0m in \u001b[0;36mminimize\u001b[0;34m(fun, x0, args, method, jac, hess, hessp, bounds, constraints, tol, callback, options)\u001b[0m\n\u001b[1;32m    448\u001b[0m     \u001b[0;32melif\u001b[0m \u001b[0mmeth\u001b[0m \u001b[0;34m==\u001b[0m \u001b[0;34m'l-bfgs-b'\u001b[0m\u001b[0;34m:\u001b[0m\u001b[0;34m\u001b[0m\u001b[0m\n\u001b[1;32m    449\u001b[0m         return _minimize_lbfgsb(fun, x0, args, jac, bounds,\n\u001b[0;32m--> 450\u001b[0;31m                                 callback=callback, **options)\n\u001b[0m\u001b[1;32m    451\u001b[0m     \u001b[0;32melif\u001b[0m \u001b[0mmeth\u001b[0m \u001b[0;34m==\u001b[0m \u001b[0;34m'tnc'\u001b[0m\u001b[0;34m:\u001b[0m\u001b[0;34m\u001b[0m\u001b[0m\n\u001b[1;32m    452\u001b[0m         return _minimize_tnc(fun, x0, args, jac, bounds, callback=callback,\n",
      "\u001b[0;32m/Users/john/anaconda2/lib/python2.7/site-packages/scipy/optimize/lbfgsb.pyc\u001b[0m in \u001b[0;36m_minimize_lbfgsb\u001b[0;34m(fun, x0, args, jac, bounds, disp, maxcor, ftol, gtol, eps, maxfun, maxiter, iprint, callback, maxls, **unknown_options)\u001b[0m\n\u001b[1;32m    326\u001b[0m             \u001b[0;31m# until the completion of the current minimization iteration.\u001b[0m\u001b[0;34m\u001b[0m\u001b[0;34m\u001b[0m\u001b[0m\n\u001b[1;32m    327\u001b[0m             \u001b[0;31m# Overwrite f and g:\u001b[0m\u001b[0;34m\u001b[0m\u001b[0;34m\u001b[0m\u001b[0m\n\u001b[0;32m--> 328\u001b[0;31m             \u001b[0mf\u001b[0m\u001b[0;34m,\u001b[0m \u001b[0mg\u001b[0m \u001b[0;34m=\u001b[0m \u001b[0mfunc_and_grad\u001b[0m\u001b[0;34m(\u001b[0m\u001b[0mx\u001b[0m\u001b[0;34m)\u001b[0m\u001b[0;34m\u001b[0m\u001b[0m\n\u001b[0m\u001b[1;32m    329\u001b[0m         \u001b[0;32melif\u001b[0m \u001b[0mtask_str\u001b[0m\u001b[0;34m.\u001b[0m\u001b[0mstartswith\u001b[0m\u001b[0;34m(\u001b[0m\u001b[0;34mb'NEW_X'\u001b[0m\u001b[0;34m)\u001b[0m\u001b[0;34m:\u001b[0m\u001b[0;34m\u001b[0m\u001b[0m\n\u001b[1;32m    330\u001b[0m             \u001b[0;31m# new iteration\u001b[0m\u001b[0;34m\u001b[0m\u001b[0;34m\u001b[0m\u001b[0m\n",
      "\u001b[0;32m/Users/john/anaconda2/lib/python2.7/site-packages/scipy/optimize/lbfgsb.pyc\u001b[0m in \u001b[0;36mfunc_and_grad\u001b[0;34m(x)\u001b[0m\n\u001b[1;32m    272\u001b[0m         \u001b[0;32mdef\u001b[0m \u001b[0mfunc_and_grad\u001b[0m\u001b[0;34m(\u001b[0m\u001b[0mx\u001b[0m\u001b[0;34m)\u001b[0m\u001b[0;34m:\u001b[0m\u001b[0;34m\u001b[0m\u001b[0m\n\u001b[1;32m    273\u001b[0m             \u001b[0mf\u001b[0m \u001b[0;34m=\u001b[0m \u001b[0mfun\u001b[0m\u001b[0;34m(\u001b[0m\u001b[0mx\u001b[0m\u001b[0;34m,\u001b[0m \u001b[0;34m*\u001b[0m\u001b[0margs\u001b[0m\u001b[0;34m)\u001b[0m\u001b[0;34m\u001b[0m\u001b[0m\n\u001b[0;32m--> 274\u001b[0;31m             \u001b[0mg\u001b[0m \u001b[0;34m=\u001b[0m \u001b[0m_approx_fprime_helper\u001b[0m\u001b[0;34m(\u001b[0m\u001b[0mx\u001b[0m\u001b[0;34m,\u001b[0m \u001b[0mfun\u001b[0m\u001b[0;34m,\u001b[0m \u001b[0mepsilon\u001b[0m\u001b[0;34m,\u001b[0m \u001b[0margs\u001b[0m\u001b[0;34m=\u001b[0m\u001b[0margs\u001b[0m\u001b[0;34m,\u001b[0m \u001b[0mf0\u001b[0m\u001b[0;34m=\u001b[0m\u001b[0mf\u001b[0m\u001b[0;34m)\u001b[0m\u001b[0;34m\u001b[0m\u001b[0m\n\u001b[0m\u001b[1;32m    275\u001b[0m             \u001b[0;32mreturn\u001b[0m \u001b[0mf\u001b[0m\u001b[0;34m,\u001b[0m \u001b[0mg\u001b[0m\u001b[0;34m\u001b[0m\u001b[0m\n\u001b[1;32m    276\u001b[0m     \u001b[0;32melse\u001b[0m\u001b[0;34m:\u001b[0m\u001b[0;34m\u001b[0m\u001b[0m\n",
      "\u001b[0;32m/Users/john/anaconda2/lib/python2.7/site-packages/scipy/optimize/optimize.pyc\u001b[0m in \u001b[0;36m_approx_fprime_helper\u001b[0;34m(xk, f, epsilon, args, f0)\u001b[0m\n\u001b[1;32m    626\u001b[0m         \u001b[0mei\u001b[0m\u001b[0;34m[\u001b[0m\u001b[0mk\u001b[0m\u001b[0;34m]\u001b[0m \u001b[0;34m=\u001b[0m \u001b[0;36m1.0\u001b[0m\u001b[0;34m\u001b[0m\u001b[0m\n\u001b[1;32m    627\u001b[0m         \u001b[0md\u001b[0m \u001b[0;34m=\u001b[0m \u001b[0mepsilon\u001b[0m \u001b[0;34m*\u001b[0m \u001b[0mei\u001b[0m\u001b[0;34m\u001b[0m\u001b[0m\n\u001b[0;32m--> 628\u001b[0;31m         \u001b[0mgrad\u001b[0m\u001b[0;34m[\u001b[0m\u001b[0mk\u001b[0m\u001b[0;34m]\u001b[0m \u001b[0;34m=\u001b[0m \u001b[0;34m(\u001b[0m\u001b[0mf\u001b[0m\u001b[0;34m(\u001b[0m\u001b[0;34m*\u001b[0m\u001b[0;34m(\u001b[0m\u001b[0;34m(\u001b[0m\u001b[0mxk\u001b[0m \u001b[0;34m+\u001b[0m \u001b[0md\u001b[0m\u001b[0;34m,\u001b[0m\u001b[0;34m)\u001b[0m \u001b[0;34m+\u001b[0m \u001b[0margs\u001b[0m\u001b[0;34m)\u001b[0m\u001b[0;34m)\u001b[0m \u001b[0;34m-\u001b[0m \u001b[0mf0\u001b[0m\u001b[0;34m)\u001b[0m \u001b[0;34m/\u001b[0m \u001b[0md\u001b[0m\u001b[0;34m[\u001b[0m\u001b[0mk\u001b[0m\u001b[0;34m]\u001b[0m\u001b[0;34m\u001b[0m\u001b[0m\n\u001b[0m\u001b[1;32m    629\u001b[0m         \u001b[0mei\u001b[0m\u001b[0;34m[\u001b[0m\u001b[0mk\u001b[0m\u001b[0;34m]\u001b[0m \u001b[0;34m=\u001b[0m \u001b[0;36m0.0\u001b[0m\u001b[0;34m\u001b[0m\u001b[0m\n\u001b[1;32m    630\u001b[0m     \u001b[0;32mreturn\u001b[0m \u001b[0mgrad\u001b[0m\u001b[0;34m\u001b[0m\u001b[0m\n",
      "\u001b[0;32m/Users/john/anaconda2/lib/python2.7/site-packages/scipy/optimize/optimize.pyc\u001b[0m in \u001b[0;36mfunction_wrapper\u001b[0;34m(*wrapper_args)\u001b[0m\n\u001b[1;32m    290\u001b[0m     \u001b[0;32mdef\u001b[0m \u001b[0mfunction_wrapper\u001b[0m\u001b[0;34m(\u001b[0m\u001b[0;34m*\u001b[0m\u001b[0mwrapper_args\u001b[0m\u001b[0;34m)\u001b[0m\u001b[0;34m:\u001b[0m\u001b[0;34m\u001b[0m\u001b[0m\n\u001b[1;32m    291\u001b[0m         \u001b[0mncalls\u001b[0m\u001b[0;34m[\u001b[0m\u001b[0;36m0\u001b[0m\u001b[0;34m]\u001b[0m \u001b[0;34m+=\u001b[0m \u001b[0;36m1\u001b[0m\u001b[0;34m\u001b[0m\u001b[0m\n\u001b[0;32m--> 292\u001b[0;31m         \u001b[0;32mreturn\u001b[0m \u001b[0mfunction\u001b[0m\u001b[0;34m(\u001b[0m\u001b[0;34m*\u001b[0m\u001b[0;34m(\u001b[0m\u001b[0mwrapper_args\u001b[0m \u001b[0;34m+\u001b[0m \u001b[0margs\u001b[0m\u001b[0;34m)\u001b[0m\u001b[0;34m)\u001b[0m\u001b[0;34m\u001b[0m\u001b[0m\n\u001b[0m\u001b[1;32m    293\u001b[0m \u001b[0;34m\u001b[0m\u001b[0m\n\u001b[1;32m    294\u001b[0m     \u001b[0;32mreturn\u001b[0m \u001b[0mncalls\u001b[0m\u001b[0;34m,\u001b[0m \u001b[0mfunction_wrapper\u001b[0m\u001b[0;34m\u001b[0m\u001b[0m\n",
      "\u001b[0;32m/Users/john/Desktop/john_code/DarkDisk/likelihood.py\u001b[0m in \u001b[0;36mloglikelihood\u001b[0;34m(param, h_DD, sig_DD, zdata, mean_param, err_param)\u001b[0m\n\u001b[1;32m    208\u001b[0m \u001b[0;34m\u001b[0m\u001b[0m\n\u001b[1;32m    209\u001b[0m    \u001b[0mstarDensity\u001b[0m \u001b[0;34m=\u001b[0m \u001b[0mfetchZDist_fast\u001b[0m\u001b[0;34m(\u001b[0m\u001b[0mz\u001b[0m\u001b[0;34m,\u001b[0m \u001b[0mzerr\u001b[0m\u001b[0;34m,\u001b[0m \u001b[0mevfs_w\u001b[0m\u001b[0;34m,\u001b[0m \u001b[0mzspaceFull\u001b[0m\u001b[0;34m,\u001b[0m \u001b[0mzSun\u001b[0m \u001b[0;34m=\u001b[0m \u001b[0msunZ\u001b[0m\u001b[0;34m)\u001b[0m\u001b[0;34m\u001b[0m\u001b[0m\n\u001b[0;32m--> 210\u001b[0;31m    \u001b[0mSDDensity\u001b[0m \u001b[0;34m=\u001b[0m \u001b[0mnp\u001b[0m\u001b[0;34m.\u001b[0m\u001b[0msqrt\u001b[0m\u001b[0;34m(\u001b[0m\u001b[0mfetchZDist_fast\u001b[0m\u001b[0;34m(\u001b[0m\u001b[0mz\u001b[0m\u001b[0;34m,\u001b[0m \u001b[0mzerr\u001b[0m\u001b[0;34m,\u001b[0m \u001b[0mevfs_w\u001b[0m\u001b[0;34m,\u001b[0m \u001b[0mzspaceFull\u001b[0m\u001b[0;34m,\u001b[0m \u001b[0mzSun\u001b[0m \u001b[0;34m=\u001b[0m \u001b[0msunZ\u001b[0m\u001b[0;34m,\u001b[0m \u001b[0muse_evfs\u001b[0m \u001b[0;34m=\u001b[0m \u001b[0mFalse\u001b[0m\u001b[0;34m)\u001b[0m\u001b[0;34m)\u001b[0m\u001b[0;34m\u001b[0m\u001b[0m\n\u001b[0m\u001b[1;32m    211\u001b[0m    \u001b[0;32mfor\u001b[0m \u001b[0mi\u001b[0m\u001b[0;34m,\u001b[0m \u001b[0msd\u001b[0m \u001b[0;32min\u001b[0m \u001b[0menumerate\u001b[0m\u001b[0;34m(\u001b[0m\u001b[0mSDDensity\u001b[0m\u001b[0;34m)\u001b[0m\u001b[0;34m:\u001b[0m\u001b[0;34m\u001b[0m\u001b[0m\n\u001b[1;32m    212\u001b[0m       \u001b[0;32mif\u001b[0m \u001b[0msd\u001b[0m \u001b[0;34m==\u001b[0m \u001b[0;36m0\u001b[0m\u001b[0;34m:\u001b[0m\u001b[0;34m\u001b[0m\u001b[0m\n",
      "\u001b[0;32m/Users/john/Desktop/john_code/DarkDisk/likelihood.py\u001b[0m in \u001b[0;36mfetchZDist_fast\u001b[0;34m(z, zerr, evfs_w_in, zspace, zSun, use_evfs, verbose)\u001b[0m\n\u001b[1;32m     77\u001b[0m    \u001b[0mdist_kernels\u001b[0m \u001b[0;34m=\u001b[0m \u001b[0mnp\u001b[0m\u001b[0;34m.\u001b[0m\u001b[0mzeros_like\u001b[0m\u001b[0;34m(\u001b[0m\u001b[0mzspace_fine\u001b[0m\u001b[0;34m)\u001b[0m\u001b[0;34m\u001b[0m\u001b[0m\n\u001b[1;32m     78\u001b[0m    \u001b[0;32mfor\u001b[0m \u001b[0mi\u001b[0m\u001b[0;34m,\u001b[0m \u001b[0mz_coord\u001b[0m \u001b[0;32min\u001b[0m \u001b[0menumerate\u001b[0m\u001b[0;34m(\u001b[0m\u001b[0mzspace_fine\u001b[0m\u001b[0;34m)\u001b[0m\u001b[0;34m:\u001b[0m\u001b[0;34m\u001b[0m\u001b[0m\n\u001b[0;32m---> 79\u001b[0;31m       \u001b[0mz_relevant_indx\u001b[0m \u001b[0;34m=\u001b[0m \u001b[0;34m(\u001b[0m \u001b[0mnp\u001b[0m\u001b[0;34m.\u001b[0m\u001b[0mabs\u001b[0m\u001b[0;34m(\u001b[0m\u001b[0mz_coord\u001b[0m\u001b[0;34m-\u001b[0m\u001b[0mz\u001b[0m\u001b[0;34m)\u001b[0m \u001b[0;34m<\u001b[0m \u001b[0;36m3.\u001b[0m\u001b[0;34m*\u001b[0m\u001b[0mzerr\u001b[0m \u001b[0;34m)\u001b[0m\u001b[0;34m\u001b[0m\u001b[0m\n\u001b[0m\u001b[1;32m     80\u001b[0m       \u001b[0mz_relevant\u001b[0m \u001b[0;34m=\u001b[0m \u001b[0mz\u001b[0m\u001b[0;34m[\u001b[0m\u001b[0mz_relevant_indx\u001b[0m\u001b[0;34m]\u001b[0m\u001b[0;34m\u001b[0m\u001b[0m\n\u001b[1;32m     81\u001b[0m       \u001b[0mevfs_relevant\u001b[0m \u001b[0;34m=\u001b[0m \u001b[0mevfs_w\u001b[0m\u001b[0;34m[\u001b[0m\u001b[0mz_relevant_indx\u001b[0m\u001b[0;34m]\u001b[0m\u001b[0;34m\u001b[0m\u001b[0m\n",
      "\u001b[0;31mKeyboardInterrupt\u001b[0m: "
     ]
    }
   ],
   "source": [
    "interpz = []\n",
    "interpy = []\n",
    "interpx = []\n",
    "interpxy = []\n",
    "\n",
    "HD_step = 40\n",
    "SgmD_step = 2\n",
    "for nHD in tqdm(range(1,1000,HD_step)):\n",
    "   for nSgmD in range(1,25,SgmD_step):\n",
    "#for nHD in tqdm(range(400,1200,HD_step)):\n",
    "#   for nSgmD in range(1,15,SgmD_step):\n",
    "      h_DD = (nHD-0.8)/2\n",
    "      sig_DD = (nSgmD-0.5)\n",
    "      result = opt.minimize(lh.loglikelihood, initial_guess, args=(h_DD, sig_DD, zdata, mean_param, err_param), bounds = bounds)\n",
    "      hdd_ret, Sigdd_ret, llh_rett = lh.diskParamLlhReturn(x_return, h_DD, sig_DD, zdata, mean_param, err_param)\n",
    "      interpx.append( Sigdd_ret )\n",
    "      interpy.append( hdd_ret )\n",
    "      interpxy.append( [Sigdd_ret, hdd_ret] )\n",
    "      interpz.append( llh_rett )"
   ]
  },
  {
   "cell_type": "code",
   "execution_count": 6,
   "metadata": {},
   "outputs": [
    {
     "data": {
      "image/png": "[encoded data removed]",
      "text/plain": [
       "<matplotlib.figure.Figure at 0x111a42890>"
      ]
     },
     "metadata": {},
     "output_type": "display_data"
    }
   ],
   "source": [
    "border_x = 100\n",
    "border_y = 20\n",
    "\n",
    "plt.scatter(interpy, interpx)\n",
    "plt.scatter(np.array([border_x for k in range(border_y)]),np.array([k for k in range(border_y)]),color='black')\n",
    "plt.scatter(np.array([k for k in range(border_x)]),np.array([border_y for k in range(border_x)]),color='black')\n",
    "plt.title('data point coverage'); plt.ylabel('$\\Sigma_D$'); plt.xlabel('$h_D$');\n",
    "plt.show()\n",
    "\n",
    "spacex, spacey = np.mgrid[0:20:42j,0:100:25j]\n",
    "\n",
    "f_likely = interp.griddata(np.array(interpxy), np.array(interpz), (spacex,spacey), method='nearest')"
   ]
  },
  {
   "cell_type": "code",
   "execution_count": null,
   "metadata": {},
   "outputs": [],
   "source": [
    "#cl_contour = [2.71]\n",
    "cl_contour = [3.84]\n",
    "\n",
    "outputx = spacex[:,0]\n",
    "outputy = spacey[0,:]\n",
    "outputz = np.array([])\n",
    "opt_y_coord = np.array([])\n",
    "\n",
    "for j, y in enumerate(outputy):\n",
    "   peak_f = np.amin( f_likely[:,j] )\n",
    "   opt_y_coord = np.append(opt_y_coord, peak_f)\n",
    "\n",
    "plot_z = np.empty_like(f_likely)\n",
    "\n",
    "for i, x in enumerate(outputx):\n",
    "   for j, y in enumerate(outputy):\n",
    "      plot_z[i,j] = 2.*(f_likely[i,j] - opt_y_coord[j])\n",
    "\n",
    "spacex = np.transpose(spacex)\n",
    "spacey = np.transpose(spacey)\n",
    "plot_z = np.transpose(plot_z)\n",
    "plt.pcolor(spacey, spacex, plot_z, cmap='Blues', vmin=plot_z.min(), vmax=plot_z.max())\n",
    "plt.colorbar()\n",
    "plt.contour(spacey, spacex, plot_z, cl_contour)\n",
    "plt.xlabel('$h_D$'); plt.ylabel('$\\Sigma_D$'); plt.title('Exclusion Contour')\n",
    "plt.show()\n",
    "plt.savefig(\"/Users/john/Documents/\"+star_Cat+\"_stars.jpg\")"
   ]
  },
  {
   "cell_type": "markdown",
   "metadata": {},
   "source": [
    "## Emcee"
   ]
  },
  {
   "cell_type": "code",
   "execution_count": 7,
   "metadata": {},
   "outputs": [
    {
     "name": "stderr",
     "output_type": "stream",
     "text": [
      "/Users/john/anaconda2/lib/python2.7/site-packages/emcee/ensemble.py:335: RuntimeWarning: invalid value encountered in subtract\n",
      "  lnpdiff = (self.dim - 1.) * np.log(zz) + newlnprob - lnprob0\n",
      "/Users/john/anaconda2/lib/python2.7/site-packages/emcee/ensemble.py:336: RuntimeWarning: invalid value encountered in greater\n",
      "  accept = (lnpdiff > np.log(self._random.rand(len(lnpdiff))))\n"
     ]
    },
    {
     "name": "stdout",
     "output_type": "stream",
     "text": [
      "CPU times: user 17min 23s, sys: 16.1 s, total: 17min 39s\n",
      "Wall time: 17min 43s\n",
      "Likelihood: inf\n",
      "return disk parameters: 8.60330896499, 8.01357146264\n",
      "return baryon parameters: [14.599975361662143, -0.32600787497222661, 1.015126561373763, 3.7000030095107874, 7.0999883461637552, 22.099979695583883, 38.999987788414472, 15.499984087343904, 7.4999947522401129, 12.000021286993972, 18.000018565980355, 18.499972638035999, 18.499994475979559, 19.999987270051825, 20.000005392321484, 0.010403426790867481, 0.027762840811963757, 0.0073031678192231305, 0.00053179763315420049, 0.00061745590460838239, 0.0017833360007920879, 0.0018053474301020565, 0.0028918462804154894, 0.0071945355566490083, 0.021652043721665744, 0.0056135962527847812, 0.0014951680002153146]\n",
      "parameter uncertainties: [(14.599975361662143, 0.00015826386855621877, 0.00015640368357949797), (-0.32600787497222661, 0.0001744573447447495, 0.00018333191457936548), (1.015126561373763, 0.00014135027462969241, 0.00014823372062466866), (3.7000030095107874, 0.00013492119724567431, 0.00021169023263079012), (7.0999883461637552, 0.00015855434453548867, 0.0001181654629203166), (22.099979695583883, 0.00017561721270453745, 0.00013578413984305371), (38.999987788414472, 0.00014995205799550604, 0.00014516026060817921), (15.499984087343904, 0.00014044919216793517, 0.00010886603434556719), (7.4999947522401129, 0.00013897486546454729, 0.00013780372576643884), (12.000021286993972, 0.00018183652799308447, 0.00013519131666406281), (18.000018565980355, 0.000129065261447181, 9.6075258706918021e-05), (18.499972638035999, 0.00014505021474775504, 0.00011493828292685748), (18.499994475979559, 0.00019289823125490102, 0.00015741501129440394), (19.999987270051825, 8.6953564665037675e-05, 0.00015002192646207391), (20.000005392321484, 0.00014997060625532299, 0.00010739545300708642), (0.010403426790867481, 0.00014388638908380443, 0.00017958146880597131), (0.027762840811963757, 0.00010096716878188472, 0.0002187129260434531), (0.0073031678192231305, 0.00016165171786448017, 9.8859606324649095e-05), (0.00053179763315420049, 0.00011672950927737677, 0.00018306301568252783), (0.00061745590460838239, 0.00017951708491110931, 0.00017690322578919508), (0.0017833360007920879, 0.0001987272269388799, 0.00013291224531344166), (0.0018053474301020565, 0.00011214561963005616, 0.00015054775272724274), (0.0028918462804154894, 0.00014075638171454899, 0.00014448190741518261), (0.0071945355566490083, 0.00015848301369865685, 0.00015920598927347557), (0.021652043721665744, 0.00013755443250994259, 0.00020566305758545206), (0.0056135962527847812, 0.00019390134164700736, 0.0001598478680556242), (0.0014951680002153146, 0.0001235932314330797, 0.00015060931690904925)]\n"
     ]
    }
   ],
   "source": [
    "epsilon = 0.0001\n",
    "\n",
    "initial_guess = np.array([sig_star, sunZ, rhoDHalo])\n",
    "initial_guess = np.append(initial_guess, sigma)\n",
    "initial_guess = np.append(initial_guess, rho)\n",
    "\n",
    "ndim, nwalkers = 27, 70\n",
    "pos = [initial_guess + 1e-4*np.random.randn(ndim) for i in range(nwalkers)]\n",
    "\n",
    "sampler = mc.EnsembleSampler(nwalkers, ndim, lh.loglikelihood, args=(h_DD, sig_DD, zdata, mean_param, err_param))\n",
    "%time sampler.run_mcmc(pos, 120)\n",
    "result = sampler.chain[:, 50:, :].reshape((-1, ndim))\n",
    "\n",
    "result_exp = result\n",
    "result_exp[:, 2] = np.exp(result[:, 2])\n",
    "baryon_return = map(lambda v: (v[0]), zip(*np.percentile(result_exp, [50], axis=0)))\n",
    "hdd_ret, Sigdd_ret, llh_rett = lh.diskParamLlhReturn(baryon_return, h_DD, sig_DD, zdata, mean_param, err_param)\n",
    "\n",
    "baryon_error = map(lambda v: (v[1], v[2]-v[1], v[1]-v[0]), zip(*np.percentile(result_exp, [16, 50, 84], axis=0)))\n",
    "\n",
    "print(\"Likelihood: \" + str(llh_rett) )\n",
    "print(\"return disk parameters: \" + str(hdd_ret) + \", \" + str(Sigdd_ret))\n",
    "print(\"return baryon parameters: \" + str(baryon_return))\n",
    "print(\"parameter uncertainties: \" + str(baryon_error))"
   ]
  },
  {
   "cell_type": "code",
   "execution_count": null,
   "metadata": {},
   "outputs": [],
   "source": [
    "interpz_mc = []\n",
    "interpy_mc = []\n",
    "interpx_mc = []\n",
    "interpxy_mc = []\n",
    "\n",
    "ndim, nwalkers = 27, 100\n",
    "pos = [initial_guess + 1e-4*np.random.randn(ndim) for i in range(nwalkers)]\n",
    "\n",
    "HD_step = 40\n",
    "SgmD_step = 2\n",
    "for nHD in tqdm(range(1,1000,HD_step)):\n",
    "   for nSgmD in range(1,25,SgmD_step):\n",
    "      h_DD = (nHD-0.8)/2\n",
    "      sig_DD = (nSgmD-0.5)\n",
    "      sampler = mc.EnsembleSampler(nwalkers, ndim, lh.loglikelihood, args=(h_DD, sig_DD, zdata, mean_param, err_param))\n",
    "      sampler.run_mcmc(pos, 500)\n",
    "      result = sampler.chain[:, 50:, :].reshape((-1, ndim))\n",
    "      best_fit_param = result[:, 2]\n",
    "      best_fit_param = np.exp(samples[:, 2])\n",
    "      baryon_return = map(lambda v: (v[0]), zip(*np.percentile(best_fit_param, [50], axis=0)))\n",
    "      hdd_ret, Sigdd_ret, llh_rett = lh.diskParamLlhReturn(baryon_return, h_DD, sig_DD, zdata, mean_param, err_param)\n",
    "      interpx_mc.append( Sigdd_ret )\n",
    "      interpy_mc.append( hdd_ret )\n",
    "      interpxy_mc.append( [Sigdd_ret, hdd_ret] )\n",
    "      interpz_mc.append( llh_rett )"
   ]
  },
  {
   "cell_type": "code",
   "execution_count": null,
   "metadata": {
    "collapsed": true
   },
   "outputs": [],
   "source": []
  }
 ],
 "metadata": {
  "kernelspec": {
   "display_name": "Python [conda root]",
   "language": "python",
   "name": "conda-root-py"
  },
  "language_info": {
   "codemirror_mode": {
    "name": "ipython",
    "version": 2
   },
   "file_extension": ".py",
   "mimetype": "text/x-python",
   "name": "python",
   "nbconvert_exporter": "python",
   "pygments_lexer": "ipython2",
   "version": "2.7.14"
  }
 },
 "nbformat": 4,
 "nbformat_minor": 2
}
